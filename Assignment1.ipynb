{
 "cells": [
  {
   "cell_type": "code",
   "execution_count": 11,
   "metadata": {},
   "outputs": [
    {
     "name": "stdout",
     "output_type": "stream",
     "text": [
      "0.26785714285714285\n"
     ]
    }
   ],
   "source": [
    "x = 5\n",
    "res = ((2*x+5)/(x**2+5*x+6))\n",
    "print(res)"
   ]
  },
  {
   "cell_type": "code",
   "execution_count": 13,
   "metadata": {},
   "outputs": [
    {
     "name": "stdout",
     "output_type": "stream",
     "text": [
      "3.7333333333333334\n"
     ]
    }
   ],
   "source": [
    "x = 5\n",
    "res = (x**2 + 5*x + 6)/(2*x + 5)\n",
    "print(res)"
   ]
  },
  {
   "cell_type": "code",
   "execution_count": 16,
   "metadata": {},
   "outputs": [
    {
     "name": "stdout",
     "output_type": "stream",
     "text": [
      "98\n"
     ]
    }
   ],
   "source": [
    "x = 5\n",
    "y = (2*x - 3)* (x + 9)\n",
    "print(y)\n"
   ]
  },
  {
   "cell_type": "code",
   "execution_count": null,
   "metadata": {},
   "outputs": [
    {
     "name": "stdout",
     "output_type": "stream",
     "text": [
      "enter usernamesaras\n",
      "enter passwordsaras\n",
      "password and username is not matching, try again!!\n",
      "enter usernamesaras\n",
      "enter passwordsaras\n",
      "password and username is not matching, try again!!\n",
      "enter usernamesaras\n",
      "enter passwordsaras\n",
      "password and username is not matching, try again!!\n",
      "enter usernamesaras\n",
      "enter passwordsaras\n",
      "password and username is not matching, try again!!\n",
      "enter usernamesaras\n",
      "enter passwordsaras\n",
      "password and username is not matching, try again!!\n",
      "your account has been blocked\n"
     ]
    }
   ],
   "source": [
    "username = \"india\"\n",
    "password = \"india\"\n",
    "count = 0\n",
    "while count < 6:\n",
    "    username = input(\"enter username\")\n",
    "    password = input(\"enter password\")\n",
    "    if username == \"india\" and password == \"india\":\n",
    "        print(\"login successful\")\n",
    "    elif username != \"india\" and password != \"india\":\n",
    "        print(\"password and username is not matching, try again!!\")\n",
    "        count = count + 1\n",
    "        if count == 5:\n",
    "            print(\"your account has been blocked\")\n"
   ]
  },
  {
   "cell_type": "code",
   "execution_count": null,
   "metadata": {},
   "outputs": [],
   "source": []
  },
  {
   "cell_type": "code",
   "execution_count": null,
   "metadata": {},
   "outputs": [],
   "source": []
  },
  {
   "cell_type": "code",
   "execution_count": null,
   "metadata": {},
   "outputs": [],
   "source": []
  },
  {
   "cell_type": "code",
   "execution_count": null,
   "metadata": {},
   "outputs": [],
   "source": []
  },
  {
   "cell_type": "code",
   "execution_count": null,
   "metadata": {},
   "outputs": [],
   "source": []
  },
  {
   "cell_type": "code",
   "execution_count": null,
   "metadata": {},
   "outputs": [],
   "source": []
  },
  {
   "cell_type": "code",
   "execution_count": null,
   "metadata": {},
   "outputs": [],
   "source": []
  },
  {
   "cell_type": "code",
   "execution_count": null,
   "metadata": {},
   "outputs": [],
   "source": []
  },
  {
   "cell_type": "code",
   "execution_count": null,
   "metadata": {},
   "outputs": [],
   "source": []
  },
  {
   "cell_type": "code",
   "execution_count": null,
   "metadata": {},
   "outputs": [],
   "source": []
  },
  {
   "cell_type": "code",
   "execution_count": null,
   "metadata": {},
   "outputs": [],
   "source": []
  }
 ],
 "metadata": {
  "kernelspec": {
   "display_name": "Python 3",
   "language": "python",
   "name": "python3"
  },
  "language_info": {
   "codemirror_mode": {
    "name": "ipython",
    "version": 3
   },
   "file_extension": ".py",
   "mimetype": "text/x-python",
   "name": "python",
   "nbconvert_exporter": "python",
   "pygments_lexer": "ipython3",
   "version": "3.7.3"
  }
 },
 "nbformat": 4,
 "nbformat_minor": 2
}
